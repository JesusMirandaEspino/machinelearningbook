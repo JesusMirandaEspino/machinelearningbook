{
 "cells": [
  {
   "cell_type": "code",
   "execution_count": 2,
   "id": "bd23866b-ea63-4f07-bdc4-1cac2536eeca",
   "metadata": {},
   "outputs": [],
   "source": [
    "import tensorflow as tf\n",
    "from random import randint \n",
    "import random\n",
    "import numpy as np"
   ]
  },
  {
   "cell_type": "code",
   "execution_count": 3,
   "id": "fa683a5e-773d-4335-b0e2-81aff0dd710a",
   "metadata": {},
   "outputs": [
    {
     "name": "stdout",
     "output_type": "stream",
     "text": [
      "GPU avalable:   []\n"
     ]
    }
   ],
   "source": [
    "print(\"GPU avalable:  \",  tf.config.list_physical_devices('GPU'))"
   ]
  },
  {
   "cell_type": "code",
   "execution_count": 4,
   "id": "a1e73ad2-bd13-4742-9654-d23236983fe9",
   "metadata": {},
   "outputs": [
    {
     "name": "stdout",
     "output_type": "stream",
     "text": [
      "2.19.0\n"
     ]
    }
   ],
   "source": [
    "print(tf.__version__)"
   ]
  },
  {
   "cell_type": "code",
   "execution_count": 5,
   "id": "aac025d7-e601-4c93-8c51-076bf306abe2",
   "metadata": {},
   "outputs": [
    {
     "name": "stdout",
     "output_type": "stream",
     "text": [
      "3.9.2\n"
     ]
    }
   ],
   "source": [
    "print(tf.keras.__version__)"
   ]
  },
  {
   "cell_type": "code",
   "execution_count": 6,
   "id": "967b7a3b-0ba5-48d7-97b3-d80be24bd53d",
   "metadata": {},
   "outputs": [],
   "source": [
    "randomint = random.randint(1, 100)"
   ]
  },
  {
   "cell_type": "code",
   "execution_count": 7,
   "id": "f1f9fac1-bf0c-4119-bc3e-e3c684c8249d",
   "metadata": {},
   "outputs": [
    {
     "name": "stdout",
     "output_type": "stream",
     "text": [
      "39\n"
     ]
    }
   ],
   "source": [
    "print(randomint)"
   ]
  },
  {
   "cell_type": "code",
   "execution_count": 8,
   "id": "98cd6674-9c58-4384-8909-5c6909b00cd4",
   "metadata": {},
   "outputs": [],
   "source": [
    "x = np.array(8)"
   ]
  },
  {
   "cell_type": "code",
   "execution_count": 9,
   "id": "3f2823f8-ccce-4180-9752-8ada922021bf",
   "metadata": {},
   "outputs": [
    {
     "data": {
      "text/plain": [
       "array(8)"
      ]
     },
     "execution_count": 9,
     "metadata": {},
     "output_type": "execute_result"
    }
   ],
   "source": [
    "x"
   ]
  },
  {
   "cell_type": "code",
   "execution_count": 10,
   "id": "b8589aa2-66d9-4d79-af25-54eb440d2000",
   "metadata": {},
   "outputs": [
    {
     "data": {
      "text/plain": [
       "0"
      ]
     },
     "execution_count": 10,
     "metadata": {},
     "output_type": "execute_result"
    }
   ],
   "source": [
    "x.ndim"
   ]
  },
  {
   "cell_type": "code",
   "execution_count": 11,
   "id": "29e050ae-1dc5-4263-a5e9-1c3511e20ae6",
   "metadata": {},
   "outputs": [
    {
     "data": {
      "text/plain": [
       "()"
      ]
     },
     "execution_count": 11,
     "metadata": {},
     "output_type": "execute_result"
    }
   ],
   "source": [
    "x.shape"
   ]
  },
  {
   "cell_type": "code",
   "execution_count": 12,
   "id": "c72fb4df-555d-474a-b823-063c240993fb",
   "metadata": {},
   "outputs": [
    {
     "data": {
      "text/plain": [
       "1"
      ]
     },
     "execution_count": 12,
     "metadata": {},
     "output_type": "execute_result"
    }
   ],
   "source": [
    "x.size"
   ]
  },
  {
   "cell_type": "code",
   "execution_count": 13,
   "id": "997c6014-eb12-4e89-bd61-f3e4f28982c7",
   "metadata": {},
   "outputs": [
    {
     "data": {
      "text/plain": [
       "dtype('int64')"
      ]
     },
     "execution_count": 13,
     "metadata": {},
     "output_type": "execute_result"
    }
   ],
   "source": [
    "x.dtype"
   ]
  },
  {
   "cell_type": "code",
   "execution_count": 14,
   "id": "6191e247-8b65-41b3-ba03-57f68345774e",
   "metadata": {},
   "outputs": [],
   "source": [
    "x = np.array([2.3, 4.2, 3.3, 1.8])"
   ]
  },
  {
   "cell_type": "code",
   "execution_count": 15,
   "id": "df135b69-3d0b-45d2-86fe-a648f4b45800",
   "metadata": {},
   "outputs": [
    {
     "data": {
      "text/plain": [
       "array([2.3, 4.2, 3.3, 1.8])"
      ]
     },
     "execution_count": 15,
     "metadata": {},
     "output_type": "execute_result"
    }
   ],
   "source": [
    "x"
   ]
  },
  {
   "cell_type": "code",
   "execution_count": 16,
   "id": "0e191e6b-70c8-43b0-829a-28c5effda39f",
   "metadata": {},
   "outputs": [
    {
     "data": {
      "text/plain": [
       "1"
      ]
     },
     "execution_count": 16,
     "metadata": {},
     "output_type": "execute_result"
    }
   ],
   "source": [
    "x.ndim"
   ]
  },
  {
   "cell_type": "code",
   "execution_count": 17,
   "id": "c107f75f-d22a-4ac2-aa64-32ed21740b3f",
   "metadata": {},
   "outputs": [
    {
     "data": {
      "text/plain": [
       "(4,)"
      ]
     },
     "execution_count": 17,
     "metadata": {},
     "output_type": "execute_result"
    }
   ],
   "source": [
    "x.shape"
   ]
  },
  {
   "cell_type": "code",
   "execution_count": 18,
   "id": "a6133b91-9ddb-491e-90ae-3d7b59589117",
   "metadata": {},
   "outputs": [
    {
     "data": {
      "text/plain": [
       "4"
      ]
     },
     "execution_count": 18,
     "metadata": {},
     "output_type": "execute_result"
    }
   ],
   "source": [
    "x.size"
   ]
  },
  {
   "cell_type": "code",
   "execution_count": 19,
   "id": "4f8d898e-f429-48d8-915b-fced4628e021",
   "metadata": {},
   "outputs": [
    {
     "data": {
      "text/plain": [
       "dtype('float64')"
      ]
     },
     "execution_count": 19,
     "metadata": {},
     "output_type": "execute_result"
    }
   ],
   "source": [
    "x.dtype"
   ]
  },
  {
   "cell_type": "code",
   "execution_count": 20,
   "id": "1dbf253f-9f38-4e18-ade5-6dfefea403a8",
   "metadata": {},
   "outputs": [],
   "source": [
    "x = np.array([[1,2,3], [4,5,6], [5,6,7] ])"
   ]
  },
  {
   "cell_type": "code",
   "execution_count": 21,
   "id": "3a802c02-6f5a-4686-8b2c-88f56b1bd2ff",
   "metadata": {},
   "outputs": [
    {
     "data": {
      "text/plain": [
       "array([[1, 2, 3],\n",
       "       [4, 5, 6],\n",
       "       [5, 6, 7]])"
      ]
     },
     "execution_count": 21,
     "metadata": {},
     "output_type": "execute_result"
    }
   ],
   "source": [
    "x"
   ]
  },
  {
   "cell_type": "code",
   "execution_count": 22,
   "id": "2b9d9599-9e59-4620-b3d8-c5a0b0b540d5",
   "metadata": {},
   "outputs": [
    {
     "data": {
      "text/plain": [
       "2"
      ]
     },
     "execution_count": 22,
     "metadata": {},
     "output_type": "execute_result"
    }
   ],
   "source": [
    "x.ndim"
   ]
  },
  {
   "cell_type": "code",
   "execution_count": 23,
   "id": "d2c66d19-5278-47d6-a968-6cea052cc37e",
   "metadata": {},
   "outputs": [
    {
     "data": {
      "text/plain": [
       "(3, 3)"
      ]
     },
     "execution_count": 23,
     "metadata": {},
     "output_type": "execute_result"
    }
   ],
   "source": [
    "x.shape"
   ]
  },
  {
   "cell_type": "code",
   "execution_count": 24,
   "id": "be0f5075-b762-4d57-a022-b6fd390d6e60",
   "metadata": {},
   "outputs": [
    {
     "data": {
      "text/plain": [
       "9"
      ]
     },
     "execution_count": 24,
     "metadata": {},
     "output_type": "execute_result"
    }
   ],
   "source": [
    "x.size"
   ]
  },
  {
   "cell_type": "code",
   "execution_count": 25,
   "id": "f6e13564-3583-4901-844e-2fb8d34cc2a9",
   "metadata": {},
   "outputs": [],
   "source": [
    "x = np.array( [[[ 1,2], [3,4]],  [[5,6], [7,8] ]]  )"
   ]
  },
  {
   "cell_type": "code",
   "execution_count": 26,
   "id": "e39fb40a-457c-4c2d-bcea-076c075e20f2",
   "metadata": {},
   "outputs": [
    {
     "data": {
      "text/plain": [
       "array([[[1, 2],\n",
       "        [3, 4]],\n",
       "\n",
       "       [[5, 6],\n",
       "        [7, 8]]])"
      ]
     },
     "execution_count": 26,
     "metadata": {},
     "output_type": "execute_result"
    }
   ],
   "source": [
    "x"
   ]
  },
  {
   "cell_type": "code",
   "execution_count": 27,
   "id": "2262f30d-8a5b-4e93-ac15-d82ff28b941c",
   "metadata": {},
   "outputs": [
    {
     "data": {
      "text/plain": [
       "3"
      ]
     },
     "execution_count": 27,
     "metadata": {},
     "output_type": "execute_result"
    }
   ],
   "source": [
    "x.ndim"
   ]
  },
  {
   "cell_type": "code",
   "execution_count": 28,
   "id": "e0ea4197-2a3d-4bec-ae6c-207281515156",
   "metadata": {},
   "outputs": [
    {
     "data": {
      "text/plain": [
       "(2, 2, 2)"
      ]
     },
     "execution_count": 28,
     "metadata": {},
     "output_type": "execute_result"
    }
   ],
   "source": [
    "x.shape"
   ]
  },
  {
   "cell_type": "code",
   "execution_count": 29,
   "id": "5bc0e531-7f01-4433-b51a-7a04d632f8f9",
   "metadata": {},
   "outputs": [
    {
     "data": {
      "text/plain": [
       "8"
      ]
     },
     "execution_count": 29,
     "metadata": {},
     "output_type": "execute_result"
    }
   ],
   "source": [
    "x.size"
   ]
  },
  {
   "cell_type": "code",
   "execution_count": 30,
   "id": "9dde3360-47c1-4352-bd37-d39d0a1357df",
   "metadata": {},
   "outputs": [
    {
     "data": {
      "text/plain": [
       "array([[0., 0., 0.],\n",
       "       [0., 0., 0.],\n",
       "       [0., 0., 0.]])"
      ]
     },
     "execution_count": 30,
     "metadata": {},
     "output_type": "execute_result"
    }
   ],
   "source": [
    "np.zeros(( 3,3 ))"
   ]
  },
  {
   "cell_type": "code",
   "execution_count": 31,
   "id": "6b95674d-2e47-4a16-80f7-189d11782167",
   "metadata": {},
   "outputs": [
    {
     "data": {
      "text/plain": [
       "array([[1., 1., 1.],\n",
       "       [1., 1., 1.],\n",
       "       [1., 1., 1.]])"
      ]
     },
     "execution_count": 31,
     "metadata": {},
     "output_type": "execute_result"
    }
   ],
   "source": [
    "np.ones(( 3,3 ))"
   ]
  },
  {
   "cell_type": "code",
   "execution_count": 32,
   "id": "afe89a1d-137b-4bed-a5f4-f5be70d3335f",
   "metadata": {},
   "outputs": [
    {
     "data": {
      "text/plain": [
       "array([[1., 0., 0.],\n",
       "       [0., 1., 0.],\n",
       "       [0., 0., 1.]])"
      ]
     },
     "execution_count": 32,
     "metadata": {},
     "output_type": "execute_result"
    }
   ],
   "source": [
    "np.eye(( 3 ))"
   ]
  },
  {
   "cell_type": "code",
   "execution_count": 33,
   "id": "582cb5af-a537-4c41-8c47-9e6033aceea7",
   "metadata": {},
   "outputs": [
    {
     "data": {
      "text/plain": [
       "array([[0.88115549, 0.14889173, 0.37366764],\n",
       "       [0.75901311, 0.12376665, 0.09773361],\n",
       "       [0.17926927, 0.28775389, 0.1656385 ]])"
      ]
     },
     "execution_count": 33,
     "metadata": {},
     "output_type": "execute_result"
    }
   ],
   "source": [
    "np.random.random(( 3,3 ))"
   ]
  },
  {
   "cell_type": "code",
   "execution_count": 34,
   "id": "bc873e6e-4c85-482f-9966-fa25ca79866c",
   "metadata": {},
   "outputs": [],
   "source": [
    "x = np.array([[1,2,3,4], [5,6,7,8], [9,10,11,12] ])"
   ]
  },
  {
   "cell_type": "code",
   "execution_count": 35,
   "id": "a86eed03-42a6-4f6b-8958-5f011c4b4054",
   "metadata": {},
   "outputs": [
    {
     "data": {
      "text/plain": [
       "array([[ 1,  2,  3,  4],\n",
       "       [ 5,  6,  7,  8],\n",
       "       [ 9, 10, 11, 12]])"
      ]
     },
     "execution_count": 35,
     "metadata": {},
     "output_type": "execute_result"
    }
   ],
   "source": [
    "x"
   ]
  },
  {
   "cell_type": "code",
   "execution_count": 36,
   "id": "93747193-19b5-41ab-a85f-4e532f77c582",
   "metadata": {},
   "outputs": [
    {
     "data": {
      "text/plain": [
       "array([ 2,  6, 10])"
      ]
     },
     "execution_count": 36,
     "metadata": {},
     "output_type": "execute_result"
    }
   ],
   "source": [
    "x[:,1]"
   ]
  },
  {
   "cell_type": "code",
   "execution_count": 37,
   "id": "abf5ab67-1740-48b4-b96b-69594a26a3cd",
   "metadata": {},
   "outputs": [
    {
     "data": {
      "text/plain": [
       "array([1, 5, 9])"
      ]
     },
     "execution_count": 37,
     "metadata": {},
     "output_type": "execute_result"
    }
   ],
   "source": [
    "x[:,0]"
   ]
  },
  {
   "cell_type": "code",
   "execution_count": 38,
   "id": "25774943-35d9-4507-8f71-8be9f5b21247",
   "metadata": {},
   "outputs": [
    {
     "data": {
      "text/plain": [
       "array([5, 6, 7, 8])"
      ]
     },
     "execution_count": 38,
     "metadata": {},
     "output_type": "execute_result"
    }
   ],
   "source": [
    "x[1,:]"
   ]
  },
  {
   "cell_type": "code",
   "execution_count": 39,
   "id": "897439ac-07b5-4ecc-8b8b-71bbd2eab10f",
   "metadata": {},
   "outputs": [
    {
     "data": {
      "text/plain": [
       "array([1, 2, 3, 4])"
      ]
     },
     "execution_count": 39,
     "metadata": {},
     "output_type": "execute_result"
    }
   ],
   "source": [
    "x[0,:]"
   ]
  },
  {
   "cell_type": "code",
   "execution_count": 40,
   "id": "374ca5a8-8af5-4993-8eac-34951c440736",
   "metadata": {},
   "outputs": [],
   "source": [
    "a = np.array( [ [ 1,2,3 ], [4,5,6] ], dtype=np.int32 )"
   ]
  },
  {
   "cell_type": "code",
   "execution_count": 41,
   "id": "90efed4e-722e-4d44-b88b-373c7555c75a",
   "metadata": {},
   "outputs": [],
   "source": [
    "b = np.array( [ [ 1,2], [3,4], [5,6] ], dtype=np.int32 )"
   ]
  },
  {
   "cell_type": "code",
   "execution_count": 42,
   "id": "373901bd-33d2-4ff7-ba18-119fc7c6eb06",
   "metadata": {},
   "outputs": [],
   "source": [
    "c = a.dot(b)"
   ]
  },
  {
   "cell_type": "code",
   "execution_count": 43,
   "id": "12875e46-75b0-4621-bca2-3ce02f63d8be",
   "metadata": {},
   "outputs": [
    {
     "data": {
      "text/plain": [
       "array([[22, 28],\n",
       "       [49, 64]], dtype=int32)"
      ]
     },
     "execution_count": 43,
     "metadata": {},
     "output_type": "execute_result"
    }
   ],
   "source": [
    "c"
   ]
  },
  {
   "cell_type": "code",
   "execution_count": 44,
   "id": "8cd67c7d-5c24-479c-946b-b1d0e416570d",
   "metadata": {},
   "outputs": [],
   "source": [
    "x = np.array( [ [ 1,2,3,4,5,6] ] )"
   ]
  },
  {
   "cell_type": "code",
   "execution_count": 45,
   "id": "0636e863-c21f-4a65-8bf5-9204afb6d6f9",
   "metadata": {},
   "outputs": [
    {
     "data": {
      "text/plain": [
       "array([[1, 2, 3, 4, 5, 6]])"
      ]
     },
     "execution_count": 45,
     "metadata": {},
     "output_type": "execute_result"
    }
   ],
   "source": [
    "x"
   ]
  },
  {
   "cell_type": "code",
   "execution_count": 46,
   "id": "9f920d91-9a9b-4187-9823-fe932ca0487c",
   "metadata": {},
   "outputs": [
    {
     "data": {
      "text/plain": [
       "(1, 6)"
      ]
     },
     "execution_count": 46,
     "metadata": {},
     "output_type": "execute_result"
    }
   ],
   "source": [
    "x.shape"
   ]
  },
  {
   "cell_type": "code",
   "execution_count": 47,
   "id": "64a3c629-861e-4217-92c0-6e2659d85eaf",
   "metadata": {},
   "outputs": [],
   "source": [
    "y = np.reshape(x, (2,3))"
   ]
  },
  {
   "cell_type": "code",
   "execution_count": 48,
   "id": "3f25ca36-87df-46ab-8ca8-9d56afdb68e2",
   "metadata": {},
   "outputs": [
    {
     "data": {
      "text/plain": [
       "array([[1, 2, 3],\n",
       "       [4, 5, 6]])"
      ]
     },
     "execution_count": 48,
     "metadata": {},
     "output_type": "execute_result"
    }
   ],
   "source": [
    "y"
   ]
  },
  {
   "cell_type": "code",
   "execution_count": 49,
   "id": "bca9b840-1468-4688-b1e0-71972cd9a9df",
   "metadata": {},
   "outputs": [],
   "source": [
    "z = np.reshape(x, (2,-1))"
   ]
  },
  {
   "cell_type": "code",
   "execution_count": 50,
   "id": "1daa8ff1-89bc-47db-a484-659f74687823",
   "metadata": {},
   "outputs": [
    {
     "data": {
      "text/plain": [
       "array([[1, 2, 3],\n",
       "       [4, 5, 6]])"
      ]
     },
     "execution_count": 50,
     "metadata": {},
     "output_type": "execute_result"
    }
   ],
   "source": [
    "z"
   ]
  },
  {
   "cell_type": "code",
   "execution_count": 51,
   "id": "62c4e9fb-50de-4864-b696-983840d7111f",
   "metadata": {},
   "outputs": [],
   "source": [
    "x = np.array( [ [ 1,2,3], [4,5,6] ] )"
   ]
  },
  {
   "cell_type": "code",
   "execution_count": 52,
   "id": "405fe815-8232-4132-93f5-1e1c5c9d5bba",
   "metadata": {},
   "outputs": [
    {
     "data": {
      "text/plain": [
       "array([[1, 2, 3],\n",
       "       [4, 5, 6]])"
      ]
     },
     "execution_count": 52,
     "metadata": {},
     "output_type": "execute_result"
    }
   ],
   "source": [
    "x"
   ]
  },
  {
   "cell_type": "code",
   "execution_count": 53,
   "id": "98f7c2e1-c441-4da2-935f-ceaa2654b020",
   "metadata": {},
   "outputs": [],
   "source": [
    "y = np.expand_dims(x, 1)"
   ]
  },
  {
   "cell_type": "code",
   "execution_count": 54,
   "id": "855aada0-d1bb-43a1-ac6c-11a68e4b8b9f",
   "metadata": {},
   "outputs": [
    {
     "data": {
      "text/plain": [
       "array([[[1, 2, 3]],\n",
       "\n",
       "       [[4, 5, 6]]])"
      ]
     },
     "execution_count": 54,
     "metadata": {},
     "output_type": "execute_result"
    }
   ],
   "source": [
    "y"
   ]
  },
  {
   "cell_type": "code",
   "execution_count": 55,
   "id": "5dfd9396-3557-4bec-aabf-a6ff8ec93887",
   "metadata": {},
   "outputs": [],
   "source": [
    "x = np.array( [[[ 1,2,3]], [[4,5,6]]] )"
   ]
  },
  {
   "cell_type": "code",
   "execution_count": 56,
   "id": "20d3e6db-1bff-4138-985a-7be85c0ac653",
   "metadata": {},
   "outputs": [
    {
     "data": {
      "text/plain": [
       "array([[[1, 2, 3]],\n",
       "\n",
       "       [[4, 5, 6]]])"
      ]
     },
     "execution_count": 56,
     "metadata": {},
     "output_type": "execute_result"
    }
   ],
   "source": [
    "x"
   ]
  },
  {
   "cell_type": "code",
   "execution_count": 57,
   "id": "80f087e9-e8b8-4093-8e90-175030a88000",
   "metadata": {},
   "outputs": [],
   "source": [
    "y = np.squeeze(x, 1)"
   ]
  },
  {
   "cell_type": "code",
   "execution_count": 58,
   "id": "d8cef7eb-1441-428c-9a5c-b0b12e01e227",
   "metadata": {},
   "outputs": [
    {
     "data": {
      "text/plain": [
       "array([[1, 2, 3],\n",
       "       [4, 5, 6]])"
      ]
     },
     "execution_count": 58,
     "metadata": {},
     "output_type": "execute_result"
    }
   ],
   "source": [
    "y"
   ]
  },
  {
   "cell_type": "code",
   "execution_count": 59,
   "id": "2515e2ae-390e-44ec-bbfa-f97764f700c5",
   "metadata": {},
   "outputs": [],
   "source": [
    "x = np.array([1, 2, 3, 4])"
   ]
  },
  {
   "cell_type": "code",
   "execution_count": 60,
   "id": "9a25bb57-a2ac-45a8-834c-0bd0546cfd37",
   "metadata": {},
   "outputs": [
    {
     "data": {
      "text/plain": [
       "array([1, 2, 3, 4])"
      ]
     },
     "execution_count": 60,
     "metadata": {},
     "output_type": "execute_result"
    }
   ],
   "source": [
    "x"
   ]
  },
  {
   "cell_type": "code",
   "execution_count": 61,
   "id": "f1b9038d-32ca-463f-94dd-9158375af11a",
   "metadata": {},
   "outputs": [
    {
     "data": {
      "text/plain": [
       "np.int64(3)"
      ]
     },
     "execution_count": 61,
     "metadata": {},
     "output_type": "execute_result"
    }
   ],
   "source": [
    "np.argmax(x)"
   ]
  },
  {
   "cell_type": "code",
   "execution_count": 62,
   "id": "f550afad-81d9-4ef7-8a18-62d6d368e1a2",
   "metadata": {},
   "outputs": [
    {
     "data": {
      "text/plain": [
       "np.int64(4)"
      ]
     },
     "execution_count": 62,
     "metadata": {},
     "output_type": "execute_result"
    }
   ],
   "source": [
    "np.max(x)"
   ]
  },
  {
   "cell_type": "code",
   "execution_count": null,
   "id": "06f896e0-9095-4512-9c5c-b834a4e65b97",
   "metadata": {},
   "outputs": [],
   "source": [
    " "
   ]
  }
 ],
 "metadata": {
  "kernelspec": {
   "display_name": "Python 3 (ipykernel)",
   "language": "python",
   "name": "python3"
  },
  "language_info": {
   "codemirror_mode": {
    "name": "ipython",
    "version": 3
   },
   "file_extension": ".py",
   "mimetype": "text/x-python",
   "name": "python",
   "nbconvert_exporter": "python",
   "pygments_lexer": "ipython3",
   "version": "3.12.9"
  }
 },
 "nbformat": 4,
 "nbformat_minor": 5
}
