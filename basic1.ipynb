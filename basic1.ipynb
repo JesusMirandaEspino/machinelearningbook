{
 "cells": [
  {
   "cell_type": "code",
   "execution_count": 1,
   "id": "e89ad7eb-a295-4d34-b0f8-14fa028be6fa",
   "metadata": {},
   "outputs": [],
   "source": [
    "import numpy as np"
   ]
  },
  {
   "cell_type": "code",
   "execution_count": 2,
   "id": "396ca50a-79a9-4ef2-8397-86b525a8caf8",
   "metadata": {},
   "outputs": [
    {
     "data": {
      "text/plain": [
       "array([   7,   77,  777, 1235])"
      ]
     },
     "execution_count": 2,
     "metadata": {},
     "output_type": "execute_result"
    }
   ],
   "source": [
    "un_array = np.array( [7, 77, 777 ,1235] )\n",
    "un_array"
   ]
  },
  {
   "cell_type": "code",
   "execution_count": 3,
   "id": "ad8b1cb9-1770-4d9b-8db8-1ef7ad7e5c99",
   "metadata": {},
   "outputs": [
    {
     "data": {
      "text/plain": [
       "numpy.ndarray"
      ]
     },
     "execution_count": 3,
     "metadata": {},
     "output_type": "execute_result"
    }
   ],
   "source": [
    "type( un_array )"
   ]
  },
  {
   "cell_type": "code",
   "execution_count": 4,
   "id": "649bcecd-706f-458c-b95e-ef6358c413ac",
   "metadata": {},
   "outputs": [
    {
     "data": {
      "text/plain": [
       "tuple"
      ]
     },
     "execution_count": 4,
     "metadata": {},
     "output_type": "execute_result"
    }
   ],
   "source": [
    "type( un_array.shape )"
   ]
  },
  {
   "cell_type": "code",
   "execution_count": 5,
   "id": "a3718e50-6fa9-4352-8802-bde6bbc9cbd6",
   "metadata": {},
   "outputs": [
    {
     "data": {
      "text/plain": [
       "(4,)"
      ]
     },
     "execution_count": 5,
     "metadata": {},
     "output_type": "execute_result"
    }
   ],
   "source": [
    "un_array.shape"
   ]
  },
  {
   "cell_type": "code",
   "execution_count": 6,
   "id": "e9ebcc5f-e225-46b6-a932-15faf5e7a887",
   "metadata": {},
   "outputs": [
    {
     "data": {
      "text/plain": [
       "array([[   7,   77,  777, 1235],\n",
       "       [   7,   77,  777, 1235]])"
      ]
     },
     "execution_count": 6,
     "metadata": {},
     "output_type": "execute_result"
    }
   ],
   "source": [
    "un_array = np.array( [ [7, 77, 777 ,1235], [7, 77, 777 ,1235] ])\n",
    "un_array"
   ]
  },
  {
   "cell_type": "code",
   "execution_count": 7,
   "id": "442253ec-1833-4e8d-ac9b-cafb5a2271ac",
   "metadata": {},
   "outputs": [
    {
     "data": {
      "text/plain": [
       "tuple"
      ]
     },
     "execution_count": 7,
     "metadata": {},
     "output_type": "execute_result"
    }
   ],
   "source": [
    "type( un_array.shape )"
   ]
  },
  {
   "cell_type": "code",
   "execution_count": 8,
   "id": "47f7b165-60a3-4a06-85f7-9aa7b618b126",
   "metadata": {},
   "outputs": [
    {
     "data": {
      "text/plain": [
       "(2, 4)"
      ]
     },
     "execution_count": 8,
     "metadata": {},
     "output_type": "execute_result"
    }
   ],
   "source": [
    "un_array.shape"
   ]
  },
  {
   "cell_type": "code",
   "execution_count": 9,
   "id": "24826c40-7703-453a-a561-2d22d0ecffab",
   "metadata": {},
   "outputs": [
    {
     "data": {
      "text/plain": [
       "array([[  17,  277,  777, 1235],\n",
       "       [   7,   77,  777, 1235],\n",
       "       [   7,   77,  777, 1235],\n",
       "       [   7,   77,  777, 1235]])"
      ]
     },
     "execution_count": 9,
     "metadata": {},
     "output_type": "execute_result"
    }
   ],
   "source": [
    "un_array = np.array( [ [17, 277, 777 ,1235], [7, 77, 777 ,1235],  [7, 77, 777 ,1235],  [7, 77, 777 ,1235] ])\n",
    "un_array"
   ]
  },
  {
   "cell_type": "code",
   "execution_count": 10,
   "id": "d99b31ba-09bf-41b9-b148-d1a75a39e06f",
   "metadata": {},
   "outputs": [
    {
     "data": {
      "text/plain": [
       "(4, 4)"
      ]
     },
     "execution_count": 10,
     "metadata": {},
     "output_type": "execute_result"
    }
   ],
   "source": [
    "un_array.shape"
   ]
  },
  {
   "cell_type": "code",
   "execution_count": 11,
   "id": "b54e1fda-0539-4816-a523-e358409a6cc2",
   "metadata": {},
   "outputs": [
    {
     "data": {
      "text/plain": [
       "np.int64(777)"
      ]
     },
     "execution_count": 11,
     "metadata": {},
     "output_type": "execute_result"
    }
   ],
   "source": [
    "un_array[2,2]"
   ]
  },
  {
   "cell_type": "code",
   "execution_count": 12,
   "id": "cf542917-eb75-41ea-bb93-7c1e85544d8e",
   "metadata": {},
   "outputs": [
    {
     "data": {
      "text/plain": [
       "array([[[0., 0., 0.],\n",
       "        [0., 0., 0.],\n",
       "        [0., 0., 0.],\n",
       "        ...,\n",
       "        [0., 0., 0.],\n",
       "        [0., 0., 0.],\n",
       "        [0., 0., 0.]],\n",
       "\n",
       "       [[0., 0., 0.],\n",
       "        [0., 0., 0.],\n",
       "        [0., 0., 0.],\n",
       "        ...,\n",
       "        [0., 0., 0.],\n",
       "        [0., 0., 0.],\n",
       "        [0., 0., 0.]],\n",
       "\n",
       "       [[0., 0., 0.],\n",
       "        [0., 0., 0.],\n",
       "        [0., 0., 0.],\n",
       "        ...,\n",
       "        [0., 0., 0.],\n",
       "        [0., 0., 0.],\n",
       "        [0., 0., 0.]],\n",
       "\n",
       "       ...,\n",
       "\n",
       "       [[0., 0., 0.],\n",
       "        [0., 0., 0.],\n",
       "        [0., 0., 0.],\n",
       "        ...,\n",
       "        [0., 0., 0.],\n",
       "        [0., 0., 0.],\n",
       "        [0., 0., 0.]],\n",
       "\n",
       "       [[0., 0., 0.],\n",
       "        [0., 0., 0.],\n",
       "        [0., 0., 0.],\n",
       "        ...,\n",
       "        [0., 0., 0.],\n",
       "        [0., 0., 0.],\n",
       "        [0., 0., 0.]],\n",
       "\n",
       "       [[0., 0., 0.],\n",
       "        [0., 0., 0.],\n",
       "        [0., 0., 0.],\n",
       "        ...,\n",
       "        [0., 0., 0.],\n",
       "        [0., 0., 0.],\n",
       "        [0., 0., 0.]]])"
      ]
     },
     "execution_count": 12,
     "metadata": {},
     "output_type": "execute_result"
    }
   ],
   "source": [
    "ej1 = np.zeros( (1080, 1920, 3) )\n",
    "ej1"
   ]
  },
  {
   "cell_type": "code",
   "execution_count": 13,
   "id": "478457e3-580d-44cd-90e1-43a995a13c17",
   "metadata": {},
   "outputs": [
    {
     "data": {
      "text/plain": [
       "array([[9.1, 9.1],\n",
       "       [9.1, 9.1]])"
      ]
     },
     "execution_count": 13,
     "metadata": {},
     "output_type": "execute_result"
    }
   ],
   "source": [
    "ej2 = np.full( (2,2), 9.1 )\n",
    "ej2"
   ]
  },
  {
   "cell_type": "code",
   "execution_count": 14,
   "id": "c153ed3d-a63f-4e6c-a120-c0b0863ac3d0",
   "metadata": {},
   "outputs": [
    {
     "data": {
      "text/plain": [
       "array([[1., 0., 0., 0., 0., 0., 0.],\n",
       "       [0., 1., 0., 0., 0., 0., 0.],\n",
       "       [0., 0., 1., 0., 0., 0., 0.],\n",
       "       [0., 0., 0., 1., 0., 0., 0.],\n",
       "       [0., 0., 0., 0., 1., 0., 0.],\n",
       "       [0., 0., 0., 0., 0., 1., 0.],\n",
       "       [0., 0., 0., 0., 0., 0., 1.]])"
      ]
     },
     "execution_count": 14,
     "metadata": {},
     "output_type": "execute_result"
    }
   ],
   "source": [
    "ej3 = np.eye( 7,7 )\n",
    "ej3"
   ]
  },
  {
   "cell_type": "code",
   "execution_count": 15,
   "id": "e86ff329-ef4b-4fcd-b693-469662ca0840",
   "metadata": {},
   "outputs": [
    {
     "data": {
      "text/plain": [
       "array([[[1., 1.],\n",
       "        [1., 1.],\n",
       "        [1., 1.],\n",
       "        [1., 1.],\n",
       "        [1., 1.],\n",
       "        [1., 1.],\n",
       "        [1., 1.]],\n",
       "\n",
       "       [[1., 1.],\n",
       "        [1., 1.],\n",
       "        [1., 1.],\n",
       "        [1., 1.],\n",
       "        [1., 1.],\n",
       "        [1., 1.],\n",
       "        [1., 1.]],\n",
       "\n",
       "       [[1., 1.],\n",
       "        [1., 1.],\n",
       "        [1., 1.],\n",
       "        [1., 1.],\n",
       "        [1., 1.],\n",
       "        [1., 1.],\n",
       "        [1., 1.]],\n",
       "\n",
       "       [[1., 1.],\n",
       "        [1., 1.],\n",
       "        [1., 1.],\n",
       "        [1., 1.],\n",
       "        [1., 1.],\n",
       "        [1., 1.],\n",
       "        [1., 1.]],\n",
       "\n",
       "       [[1., 1.],\n",
       "        [1., 1.],\n",
       "        [1., 1.],\n",
       "        [1., 1.],\n",
       "        [1., 1.],\n",
       "        [1., 1.],\n",
       "        [1., 1.]],\n",
       "\n",
       "       [[1., 1.],\n",
       "        [1., 1.],\n",
       "        [1., 1.],\n",
       "        [1., 1.],\n",
       "        [1., 1.],\n",
       "        [1., 1.],\n",
       "        [1., 1.]],\n",
       "\n",
       "       [[1., 1.],\n",
       "        [1., 1.],\n",
       "        [1., 1.],\n",
       "        [1., 1.],\n",
       "        [1., 1.],\n",
       "        [1., 1.],\n",
       "        [1., 1.]],\n",
       "\n",
       "       [[1., 1.],\n",
       "        [1., 1.],\n",
       "        [1., 1.],\n",
       "        [1., 1.],\n",
       "        [1., 1.],\n",
       "        [1., 1.],\n",
       "        [1., 1.]],\n",
       "\n",
       "       [[1., 1.],\n",
       "        [1., 1.],\n",
       "        [1., 1.],\n",
       "        [1., 1.],\n",
       "        [1., 1.],\n",
       "        [1., 1.],\n",
       "        [1., 1.]],\n",
       "\n",
       "       [[1., 1.],\n",
       "        [1., 1.],\n",
       "        [1., 1.],\n",
       "        [1., 1.],\n",
       "        [1., 1.],\n",
       "        [1., 1.],\n",
       "        [1., 1.]]])"
      ]
     },
     "execution_count": 15,
     "metadata": {},
     "output_type": "execute_result"
    }
   ],
   "source": [
    "ej4 = np.ones( (10,7,2) )\n",
    "ej4"
   ]
  },
  {
   "cell_type": "code",
   "execution_count": 16,
   "id": "942b0c5d-eb03-4322-8740-4beeffca5175",
   "metadata": {},
   "outputs": [
    {
     "data": {
      "text/plain": [
       "array([[0.97928707, 0.28929469, 0.38203136, 0.10502747, 0.64249277],\n",
       "       [0.78538794, 0.05684562, 0.70820229, 0.23243308, 0.07643277],\n",
       "       [0.29819736, 0.82682002, 0.83906003, 0.50094397, 0.38756237],\n",
       "       [0.87643961, 0.96139094, 0.6784821 , 0.92561779, 0.24372857],\n",
       "       [0.71691832, 0.04842505, 0.77987151, 0.07296911, 0.60552151]])"
      ]
     },
     "execution_count": 16,
     "metadata": {},
     "output_type": "execute_result"
    }
   ],
   "source": [
    "ej5 = np.random.random( (5,5) )\n",
    "ej5"
   ]
  },
  {
   "cell_type": "code",
   "execution_count": 17,
   "id": "a15d93f1-4b9f-45d3-a3e9-7a20280e6e26",
   "metadata": {},
   "outputs": [
    {
     "data": {
      "text/plain": [
       "array([[11, 12, 13, 14],\n",
       "       [21, 22, 23, 24],\n",
       "       [31, 32, 33, 34],\n",
       "       [41, 42, 43, 44]])"
      ]
     },
     "execution_count": 17,
     "metadata": {},
     "output_type": "execute_result"
    }
   ],
   "source": [
    "indices = np.array( [ [11, 12, 13, 14], [21, 22, 23, 24],  [31, 32, 33, 34],  [41, 42, 43, 44] ])\n",
    "indices"
   ]
  },
  {
   "cell_type": "code",
   "execution_count": 18,
   "id": "b422978f-df68-4fc0-a622-d6e68e578793",
   "metadata": {},
   "outputs": [],
   "source": [
    "cols = np.array( [0, 1, 2, 0])\n",
    "rows = np.arange(4)"
   ]
  },
  {
   "cell_type": "code",
   "execution_count": 19,
   "id": "4f56fe9b-3e5b-451f-a252-db54ebc8e65c",
   "metadata": {},
   "outputs": [
    {
     "data": {
      "text/plain": [
       "array([0, 1, 2, 0])"
      ]
     },
     "execution_count": 19,
     "metadata": {},
     "output_type": "execute_result"
    }
   ],
   "source": [
    "cols"
   ]
  },
  {
   "cell_type": "code",
   "execution_count": 20,
   "id": "40bcff41-e4e1-474d-90f2-1d115496fba5",
   "metadata": {},
   "outputs": [
    {
     "data": {
      "text/plain": [
       "array([0, 1, 2, 3])"
      ]
     },
     "execution_count": 20,
     "metadata": {},
     "output_type": "execute_result"
    }
   ],
   "source": [
    "rows"
   ]
  },
  {
   "cell_type": "code",
   "execution_count": 21,
   "id": "651904b8-1d75-410d-b0d8-b8c5005c33ba",
   "metadata": {},
   "outputs": [
    {
     "name": "stdout",
     "output_type": "stream",
     "text": [
      "0 0\n",
      "11\n",
      "1 1\n",
      "22\n",
      "2 2\n",
      "33\n",
      "3 0\n",
      "41\n"
     ]
    }
   ],
   "source": [
    "for row, col in zip(rows, cols ):\n",
    "    print( row, col )\n",
    "    print(indices[row, col])"
   ]
  },
  {
   "cell_type": "code",
   "execution_count": null,
   "id": "90eacee8-6630-456b-984b-db8d15717620",
   "metadata": {},
   "outputs": [],
   "source": []
  },
  {
   "cell_type": "code",
   "execution_count": null,
   "id": "ea19176d-b1de-499f-94db-682e3507e75d",
   "metadata": {},
   "outputs": [],
   "source": []
  }
 ],
 "metadata": {
  "kernelspec": {
   "display_name": "Python 3 (ipykernel)",
   "language": "python",
   "name": "python3"
  },
  "language_info": {
   "codemirror_mode": {
    "name": "ipython",
    "version": 3
   },
   "file_extension": ".py",
   "mimetype": "text/x-python",
   "name": "python",
   "nbconvert_exporter": "python",
   "pygments_lexer": "ipython3",
   "version": "3.12.9"
  }
 },
 "nbformat": 4,
 "nbformat_minor": 5
}
